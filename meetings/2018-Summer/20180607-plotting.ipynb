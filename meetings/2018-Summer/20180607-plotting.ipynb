{
 "cells": [
  {
   "cell_type": "markdown",
   "metadata": {},
   "source": [
    "# Plotting in python with matplotlib\n",
    "\n",
    "[matplotlib](http://matplotlib.org) is the main plotting library in python. There are others which complement and/or build on it, but it's the widely used standard.\n",
    "\n",
    "## Preliminaries\n",
    "\n",
    "Notebooks like this are nice because the plots can be embedded directly into them with the following code:"
   ]
  },
  {
   "cell_type": "code",
   "execution_count": null,
   "metadata": {},
   "outputs": [],
   "source": [
    "%matplotlib inline"
   ]
  },
  {
   "cell_type": "markdown",
   "metadata": {},
   "source": [
    "This needs to be done before importing the matplotlib modules."
   ]
  },
  {
   "cell_type": "code",
   "execution_count": null,
   "metadata": {},
   "outputs": [],
   "source": [
    "import matplotlib.pyplot as plt\n",
    "import numpy as np"
   ]
  },
  {
   "cell_type": "markdown",
   "metadata": {},
   "source": [
    "## A first plot\n",
    "\n",
    "Let's start with a simple example:\n",
    "\n",
    "$f(x)=x^2$"
   ]
  },
  {
   "cell_type": "code",
   "execution_count": null,
   "metadata": {},
   "outputs": [],
   "source": [
    "fig = plt.figure()  # this is technically optional, but good to think about creating\n",
    "                    # \"figures\" when you start thinking about multi-panel plots\n",
    "\n",
    "# create an array of x-values\n",
    "xarr = np.arange(-5, 5, 0.1)\n",
    "\n",
    "plt.plot(xarr,\n",
    "         xarr**2,\n",
    "         ls='-',\n",
    "         label=r'$x^2$')"
   ]
  },
  {
   "cell_type": "markdown",
   "metadata": {},
   "source": [
    "Now we have a plot. We can add more functions to the same axis by calling additional `plot()` routines."
   ]
  },
  {
   "cell_type": "code",
   "execution_count": null,
   "metadata": {},
   "outputs": [],
   "source": [
    "fig = plt.figure()  # this is technically optional, but good to think about creating\n",
    "                    # \"figures\" when you start thinking about multi-panel plots\n",
    "\n",
    "# create an array of x-values\n",
    "xarr = np.arange(-5, 5, 0.1)\n",
    "\n",
    "plt.plot(xarr,\n",
    "         xarr,\n",
    "         ls='--',\n",
    "         label=r'$x$')\n",
    "plt.plot(xarr,\n",
    "         xarr**2,\n",
    "         ls='-',\n",
    "         label=r'$x^2$')\n",
    "plt.plot(xarr,\n",
    "         xarr**3,\n",
    "         ls='-.',\n",
    "         label=r'$x^3$')\n",
    "\n",
    "# add axis labels\n",
    "plt.xlabel('x')\n",
    "plt.ylabel('y')\n",
    "\n",
    "# manually set the x range\n",
    "plt.xlim([-4, 5])\n",
    "\n",
    "# this will overplot a grid of dotted lines\n",
    "plt.grid(ls=':')\n",
    "\n",
    "plt.legend()\n",
    "\n",
    "# lastly, the figure can be saved as a png file (or other type)\n",
    "plt.savefig('polynomials.png')"
   ]
  },
  {
   "cell_type": "markdown",
   "metadata": {},
   "source": [
    "There's an example figure showing [various line and point styles](https://matplotlib.org/1.3.1/examples/pylab_examples/line_styles.html)"
   ]
  },
  {
   "cell_type": "code",
   "execution_count": null,
   "metadata": {},
   "outputs": [],
   "source": [
    "fig = plt.figure()  # this is technically optional, but good to think about creating\n",
    "                    # \"figures\" when you start thinking about multi-panel plots\n",
    "\n",
    "# create an array of x-values\n",
    "xarr = np.arange(-5, 5, 0.1)\n",
    "\n",
    "plt.plot(xarr,\n",
    "         xarr**2,\n",
    "         ls='',\n",
    "         marker='o',\n",
    "         label=r'$x^2$')"
   ]
  },
  {
   "cell_type": "markdown",
   "metadata": {},
   "source": [
    "matplotlib can also do histograms"
   ]
  },
  {
   "cell_type": "code",
   "execution_count": null,
   "metadata": {},
   "outputs": [],
   "source": [
    "N = 30\n",
    "rand_normal = np.random.normal(2, 0.73, size=N)\n",
    "rand_uniform = np.random.uniform(0, 4, size=N)\n",
    "\n",
    "plt.hist(rand_normal, alpha=0.3, label='Normal')\n",
    "plt.hist(rand_uniform, alpha=0.3, label='Uniform')    "
   ]
  },
  {
   "cell_type": "markdown",
   "metadata": {},
   "source": [
    "And show images."
   ]
  },
  {
   "cell_type": "code",
   "execution_count": null,
   "metadata": {},
   "outputs": [],
   "source": [
    "image = np.load('/home/george/download/Master_Bias.npy')\n",
    "\n",
    "plt.imshow(np.log10(image),\n",
    "           cmap='viridis',\n",
    "           aspect='equal')\n",
    "plt.colorbar()"
   ]
  },
  {
   "cell_type": "code",
   "execution_count": null,
   "metadata": {},
   "outputs": [],
   "source": []
  }
 ],
 "metadata": {
  "kernelspec": {
   "display_name": "Python 3",
   "language": "python",
   "name": "python3"
  },
  "language_info": {
   "codemirror_mode": {
    "name": "ipython",
    "version": 3
   },
   "file_extension": ".py",
   "mimetype": "text/x-python",
   "name": "python",
   "nbconvert_exporter": "python",
   "pygments_lexer": "ipython3",
   "version": "3.6.5"
  }
 },
 "nbformat": 4,
 "nbformat_minor": 2
}